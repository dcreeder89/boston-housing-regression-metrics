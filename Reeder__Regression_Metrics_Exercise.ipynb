{
  "nbformat": 4,
  "nbformat_minor": 0,
  "metadata": {
    "colab": {
      "provenance": [],
      "authorship_tag": "ABX9TyOhAZ6BLA6IJGBu4y/8MwIA",
      "include_colab_link": true
    },
    "kernelspec": {
      "name": "python3",
      "display_name": "Python 3"
    },
    "language_info": {
      "name": "python"
    }
  },
  "cells": [
    {
      "cell_type": "markdown",
      "metadata": {
        "id": "view-in-github",
        "colab_type": "text"
      },
      "source": [
        "<a href=\"https://colab.research.google.com/github/dcreeder89/boston-housing-regression-metrics/blob/main/Reeder__Regression_Metrics_Exercise.ipynb\" target=\"_parent\"><img src=\"https://colab.research.google.com/assets/colab-badge.svg\" alt=\"Open In Colab\"/></a>"
      ]
    },
    {
      "cell_type": "markdown",
      "source": [
        "# Regression Metrics Exercise\n",
        "- Christina Reeder\n",
        "- 21 Dec 2022"
      ],
      "metadata": {
        "id": "KL6KQd7b4tBW"
      }
    },
    {
      "cell_type": "markdown",
      "source": [
        "The ultimate goal of this task is to predict the **price** based on the available features using a linear regression model.\n",
        "\n",
        "All of the features and the target are continuous variables.\n",
        "\n",
        "For now, you do not need to do any cleaning to this data set. You can use it \"as is.\"\n",
        "\n",
        "An important exploration step is to determine if there are any moderate or strong correlations in your variables."
      ],
      "metadata": {
        "id": "z7Ak1W0Y45KM"
      }
    },
    {
      "cell_type": "code",
      "source": [
        "# mount google drive\n",
        "from google.colab import drive\n",
        "drive.mount('/content/drive')"
      ],
      "metadata": {
        "colab": {
          "base_uri": "https://localhost:8080/"
        },
        "id": "0IwH9Pvc5QeR",
        "outputId": "521bce63-5658-42ab-ca1d-27c2c403eedc"
      },
      "execution_count": null,
      "outputs": [
        {
          "output_type": "stream",
          "name": "stdout",
          "text": [
            "Mounted at /content/drive\n"
          ]
        }
      ]
    },
    {
      "cell_type": "code",
      "source": [
        "# import libraries\n",
        "import pandas as pd\n",
        "import numpy as np\n",
        "import seaborn as sns\n",
        "import matplotlib.pyplot as plt\n",
        "\n",
        "from sklearn.pipeline import make_pipeline\n",
        "from sklearn.model_selection import train_test_split\n",
        "from sklearn.preprocessing import StandardScaler\n",
        "from sklearn.compose import make_column_transformer\n",
        "from sklearn import set_config\n",
        "set_config(display='diagram')\n",
        "\n",
        "from sklearn.linear_model import LinearRegression\n",
        "from sklearn.metrics import mean_absolute_error, mean_squared_error, r2_score"
      ],
      "metadata": {
        "id": "RA7nr8C25tml"
      },
      "execution_count": null,
      "outputs": []
    },
    {
      "cell_type": "code",
      "source": [
        "# load data and save as dataframe\n",
        "filename='/content/drive/MyDrive/Coding Dojo/06 Week 6: Regression Models/Core Assignments/Boston_Housing_from_Sklearn.csv'\n",
        "df = pd.read_csv(filename)"
      ],
      "metadata": {
        "id": "Gp1jC3-t50NC"
      },
      "execution_count": null,
      "outputs": []
    },
    {
      "cell_type": "code",
      "source": [
        "df.info()\n",
        "df.head()"
      ],
      "metadata": {
        "colab": {
          "base_uri": "https://localhost:8080/",
          "height": 449
        },
        "id": "VxIORCNz58tI",
        "outputId": "2cbd50e3-1059-4a79-cfbd-d70b28f14893"
      },
      "execution_count": null,
      "outputs": [
        {
          "output_type": "stream",
          "name": "stdout",
          "text": [
            "<class 'pandas.core.frame.DataFrame'>\n",
            "RangeIndex: 506 entries, 0 to 505\n",
            "Data columns (total 7 columns):\n",
            " #   Column   Non-Null Count  Dtype  \n",
            "---  ------   --------------  -----  \n",
            " 0   CRIM     506 non-null    float64\n",
            " 1   NOX      506 non-null    float64\n",
            " 2   RM       506 non-null    float64\n",
            " 3   AGE      506 non-null    float64\n",
            " 4   PTRATIO  506 non-null    float64\n",
            " 5   LSTAT    506 non-null    float64\n",
            " 6   PRICE    506 non-null    float64\n",
            "dtypes: float64(7)\n",
            "memory usage: 27.8 KB\n"
          ]
        },
        {
          "output_type": "execute_result",
          "data": {
            "text/plain": [
              "      CRIM    NOX     RM   AGE  PTRATIO  LSTAT  PRICE\n",
              "0  0.00632  0.538  6.575  65.2     15.3   4.98   24.0\n",
              "1  0.02731  0.469  6.421  78.9     17.8   9.14   21.6\n",
              "2  0.02729  0.469  7.185  61.1     17.8   4.03   34.7\n",
              "3  0.03237  0.458  6.998  45.8     18.7   2.94   33.4\n",
              "4  0.06905  0.458  7.147  54.2     18.7   5.33   36.2"
            ],
            "text/html": [
              "\n",
              "  <div id=\"df-df63a3a4-768f-4232-9ac0-f9c4b9495b3d\">\n",
              "    <div class=\"colab-df-container\">\n",
              "      <div>\n",
              "<style scoped>\n",
              "    .dataframe tbody tr th:only-of-type {\n",
              "        vertical-align: middle;\n",
              "    }\n",
              "\n",
              "    .dataframe tbody tr th {\n",
              "        vertical-align: top;\n",
              "    }\n",
              "\n",
              "    .dataframe thead th {\n",
              "        text-align: right;\n",
              "    }\n",
              "</style>\n",
              "<table border=\"1\" class=\"dataframe\">\n",
              "  <thead>\n",
              "    <tr style=\"text-align: right;\">\n",
              "      <th></th>\n",
              "      <th>CRIM</th>\n",
              "      <th>NOX</th>\n",
              "      <th>RM</th>\n",
              "      <th>AGE</th>\n",
              "      <th>PTRATIO</th>\n",
              "      <th>LSTAT</th>\n",
              "      <th>PRICE</th>\n",
              "    </tr>\n",
              "  </thead>\n",
              "  <tbody>\n",
              "    <tr>\n",
              "      <th>0</th>\n",
              "      <td>0.00632</td>\n",
              "      <td>0.538</td>\n",
              "      <td>6.575</td>\n",
              "      <td>65.2</td>\n",
              "      <td>15.3</td>\n",
              "      <td>4.98</td>\n",
              "      <td>24.0</td>\n",
              "    </tr>\n",
              "    <tr>\n",
              "      <th>1</th>\n",
              "      <td>0.02731</td>\n",
              "      <td>0.469</td>\n",
              "      <td>6.421</td>\n",
              "      <td>78.9</td>\n",
              "      <td>17.8</td>\n",
              "      <td>9.14</td>\n",
              "      <td>21.6</td>\n",
              "    </tr>\n",
              "    <tr>\n",
              "      <th>2</th>\n",
              "      <td>0.02729</td>\n",
              "      <td>0.469</td>\n",
              "      <td>7.185</td>\n",
              "      <td>61.1</td>\n",
              "      <td>17.8</td>\n",
              "      <td>4.03</td>\n",
              "      <td>34.7</td>\n",
              "    </tr>\n",
              "    <tr>\n",
              "      <th>3</th>\n",
              "      <td>0.03237</td>\n",
              "      <td>0.458</td>\n",
              "      <td>6.998</td>\n",
              "      <td>45.8</td>\n",
              "      <td>18.7</td>\n",
              "      <td>2.94</td>\n",
              "      <td>33.4</td>\n",
              "    </tr>\n",
              "    <tr>\n",
              "      <th>4</th>\n",
              "      <td>0.06905</td>\n",
              "      <td>0.458</td>\n",
              "      <td>7.147</td>\n",
              "      <td>54.2</td>\n",
              "      <td>18.7</td>\n",
              "      <td>5.33</td>\n",
              "      <td>36.2</td>\n",
              "    </tr>\n",
              "  </tbody>\n",
              "</table>\n",
              "</div>\n",
              "      <button class=\"colab-df-convert\" onclick=\"convertToInteractive('df-df63a3a4-768f-4232-9ac0-f9c4b9495b3d')\"\n",
              "              title=\"Convert this dataframe to an interactive table.\"\n",
              "              style=\"display:none;\">\n",
              "        \n",
              "  <svg xmlns=\"http://www.w3.org/2000/svg\" height=\"24px\"viewBox=\"0 0 24 24\"\n",
              "       width=\"24px\">\n",
              "    <path d=\"M0 0h24v24H0V0z\" fill=\"none\"/>\n",
              "    <path d=\"M18.56 5.44l.94 2.06.94-2.06 2.06-.94-2.06-.94-.94-2.06-.94 2.06-2.06.94zm-11 1L8.5 8.5l.94-2.06 2.06-.94-2.06-.94L8.5 2.5l-.94 2.06-2.06.94zm10 10l.94 2.06.94-2.06 2.06-.94-2.06-.94-.94-2.06-.94 2.06-2.06.94z\"/><path d=\"M17.41 7.96l-1.37-1.37c-.4-.4-.92-.59-1.43-.59-.52 0-1.04.2-1.43.59L10.3 9.45l-7.72 7.72c-.78.78-.78 2.05 0 2.83L4 21.41c.39.39.9.59 1.41.59.51 0 1.02-.2 1.41-.59l7.78-7.78 2.81-2.81c.8-.78.8-2.07 0-2.86zM5.41 20L4 18.59l7.72-7.72 1.47 1.35L5.41 20z\"/>\n",
              "  </svg>\n",
              "      </button>\n",
              "      \n",
              "  <style>\n",
              "    .colab-df-container {\n",
              "      display:flex;\n",
              "      flex-wrap:wrap;\n",
              "      gap: 12px;\n",
              "    }\n",
              "\n",
              "    .colab-df-convert {\n",
              "      background-color: #E8F0FE;\n",
              "      border: none;\n",
              "      border-radius: 50%;\n",
              "      cursor: pointer;\n",
              "      display: none;\n",
              "      fill: #1967D2;\n",
              "      height: 32px;\n",
              "      padding: 0 0 0 0;\n",
              "      width: 32px;\n",
              "    }\n",
              "\n",
              "    .colab-df-convert:hover {\n",
              "      background-color: #E2EBFA;\n",
              "      box-shadow: 0px 1px 2px rgba(60, 64, 67, 0.3), 0px 1px 3px 1px rgba(60, 64, 67, 0.15);\n",
              "      fill: #174EA6;\n",
              "    }\n",
              "\n",
              "    [theme=dark] .colab-df-convert {\n",
              "      background-color: #3B4455;\n",
              "      fill: #D2E3FC;\n",
              "    }\n",
              "\n",
              "    [theme=dark] .colab-df-convert:hover {\n",
              "      background-color: #434B5C;\n",
              "      box-shadow: 0px 1px 3px 1px rgba(0, 0, 0, 0.15);\n",
              "      filter: drop-shadow(0px 1px 2px rgba(0, 0, 0, 0.3));\n",
              "      fill: #FFFFFF;\n",
              "    }\n",
              "  </style>\n",
              "\n",
              "      <script>\n",
              "        const buttonEl =\n",
              "          document.querySelector('#df-df63a3a4-768f-4232-9ac0-f9c4b9495b3d button.colab-df-convert');\n",
              "        buttonEl.style.display =\n",
              "          google.colab.kernel.accessAllowed ? 'block' : 'none';\n",
              "\n",
              "        async function convertToInteractive(key) {\n",
              "          const element = document.querySelector('#df-df63a3a4-768f-4232-9ac0-f9c4b9495b3d');\n",
              "          const dataTable =\n",
              "            await google.colab.kernel.invokeFunction('convertToInteractive',\n",
              "                                                     [key], {});\n",
              "          if (!dataTable) return;\n",
              "\n",
              "          const docLinkHtml = 'Like what you see? Visit the ' +\n",
              "            '<a target=\"_blank\" href=https://colab.research.google.com/notebooks/data_table.ipynb>data table notebook</a>'\n",
              "            + ' to learn more about interactive tables.';\n",
              "          element.innerHTML = '';\n",
              "          dataTable['output_type'] = 'display_data';\n",
              "          await google.colab.output.renderOutput(dataTable, element);\n",
              "          const docLink = document.createElement('div');\n",
              "          docLink.innerHTML = docLinkHtml;\n",
              "          element.appendChild(docLink);\n",
              "        }\n",
              "      </script>\n",
              "    </div>\n",
              "  </div>\n",
              "  "
            ]
          },
          "metadata": {},
          "execution_count": 4
        }
      ]
    },
    {
      "cell_type": "markdown",
      "source": [
        "## 0. Check data"
      ],
      "metadata": {
        "id": "_b0Qym9C6A8D"
      }
    },
    {
      "cell_type": "code",
      "source": [
        "# check for duplicate rows\n",
        "df.duplicated().sum()"
      ],
      "metadata": {
        "colab": {
          "base_uri": "https://localhost:8080/"
        },
        "id": "ddy0DUEm6Dlr",
        "outputId": "c4d3daf8-3ea6-41b5-921a-d85ad26ae616"
      },
      "execution_count": null,
      "outputs": [
        {
          "output_type": "execute_result",
          "data": {
            "text/plain": [
              "0"
            ]
          },
          "metadata": {},
          "execution_count": 5
        }
      ]
    },
    {
      "cell_type": "code",
      "source": [
        "# check for missing data\n",
        "df.isna().sum()"
      ],
      "metadata": {
        "colab": {
          "base_uri": "https://localhost:8080/"
        },
        "id": "eR4BcxKW6H50",
        "outputId": "703791b9-6171-4bee-dbaa-9a8fa8d48e13"
      },
      "execution_count": null,
      "outputs": [
        {
          "output_type": "execute_result",
          "data": {
            "text/plain": [
              "CRIM       0\n",
              "NOX        0\n",
              "RM         0\n",
              "AGE        0\n",
              "PTRATIO    0\n",
              "LSTAT      0\n",
              "PRICE      0\n",
              "dtype: int64"
            ]
          },
          "metadata": {},
          "execution_count": 6
        }
      ]
    },
    {
      "cell_type": "markdown",
      "source": [
        "> No duplicate rows and no missing data in any columns"
      ],
      "metadata": {
        "id": "opbykdDQ6MBC"
      }
    },
    {
      "cell_type": "markdown",
      "source": [
        "## 1. Make a heatmap of the correlations. Identify any features that have a correlation coefficient of magnitude 0.5 (could be + or -) or greater with price. We will limit our analysis to these three features."
      ],
      "metadata": {
        "id": "6_cLflYF4_v8"
      }
    },
    {
      "cell_type": "code",
      "source": [
        "# save correlation matrix\n",
        "corr = df.corr()"
      ],
      "metadata": {
        "id": "XY-OSYvn6Vm4"
      },
      "execution_count": null,
      "outputs": []
    },
    {
      "cell_type": "code",
      "source": [
        "# visualize heatmap with correlation values\n",
        "sns.heatmap(corr, cmap='Blues', annot=True)"
      ],
      "metadata": {
        "colab": {
          "base_uri": "https://localhost:8080/",
          "height": 286
        },
        "id": "8TMw-kAM6f9i",
        "outputId": "530dd33a-08a5-43e7-fd57-530a08641ae7"
      },
      "execution_count": null,
      "outputs": [
        {
          "output_type": "execute_result",
          "data": {
            "text/plain": [
              "<matplotlib.axes._subplots.AxesSubplot at 0x7f57aff99370>"
            ]
          },
          "metadata": {},
          "execution_count": 8
        },
        {
          "output_type": "display_data",
          "data": {
            "text/plain": [
              "<Figure size 432x288 with 2 Axes>"
            ],
            "image/png": "[encoded data removed]"
          },
          "metadata": {
            "needs_background": "light"
          }
        }
      ]
    },
    {
      "cell_type": "markdown",
      "source": [
        "Features with a correlation of 0.5 or greater with PRICE:\n",
        "- RM\n",
        "- PTRATIO\n",
        "- LSTAT"
      ],
      "metadata": {
        "id": "CiLlEVQo67m8"
      }
    },
    {
      "cell_type": "markdown",
      "source": [
        "## 2. Select columns for your feature matrix (X) and select price for your target vector (y)."
      ],
      "metadata": {
        "id": "3uyEsomg5Azr"
      }
    },
    {
      "cell_type": "code",
      "source": [
        "# validation split\n",
        "X = df[['RM', 'PTRATIO','LSTAT']].copy()\n",
        "y = df['PRICE'].copy()"
      ],
      "metadata": {
        "id": "7PT14VnH8CYz"
      },
      "execution_count": null,
      "outputs": []
    },
    {
      "cell_type": "markdown",
      "source": [
        "## 3. Split your data into train and test groups. Please use random number 42 for consistency!"
      ],
      "metadata": {
        "id": "1RUl-xMi5DE7"
      }
    },
    {
      "cell_type": "code",
      "source": [
        "# train test split\n",
        "X_train, X_test, y_train, y_test = train_test_split(X, y, random_state=42)\n",
        "X_train.head()"
      ],
      "metadata": {
        "colab": {
          "base_uri": "https://localhost:8080/",
          "height": 206
        },
        "id": "1Aj9Cre58P90",
        "outputId": "19ed27d3-1209-4a08-84fa-f7a53c2cf1d4"
      },
      "execution_count": null,
      "outputs": [
        {
          "output_type": "execute_result",
          "data": {
            "text/plain": [
              "        RM  PTRATIO  LSTAT\n",
              "182  7.155     17.8   4.82\n",
              "155  6.152     14.7  15.02\n",
              "280  7.820     14.9   3.76\n",
              "126  5.613     19.1  27.26\n",
              "329  6.333     16.9   7.34"
            ],
            "text/html": [
              "\n",
              "  <div id=\"df-df54f0f5-4fc3-46b2-a843-bb73e01147b5\">\n",
              "    <div class=\"colab-df-container\">\n",
              "      <div>\n",
              "<style scoped>\n",
              "    .dataframe tbody tr th:only-of-type {\n",
              "        vertical-align: middle;\n",
              "    }\n",
              "\n",
              "    .dataframe tbody tr th {\n",
              "        vertical-align: top;\n",
              "    }\n",
              "\n",
              "    .dataframe thead th {\n",
              "        text-align: right;\n",
              "    }\n",
              "</style>\n",
              "<table border=\"1\" class=\"dataframe\">\n",
              "  <thead>\n",
              "    <tr style=\"text-align: right;\">\n",
              "      <th></th>\n",
              "      <th>RM</th>\n",
              "      <th>PTRATIO</th>\n",
              "      <th>LSTAT</th>\n",
              "    </tr>\n",
              "  </thead>\n",
              "  <tbody>\n",
              "    <tr>\n",
              "      <th>182</th>\n",
              "      <td>7.155</td>\n",
              "      <td>17.8</td>\n",
              "      <td>4.82</td>\n",
              "    </tr>\n",
              "    <tr>\n",
              "      <th>155</th>\n",
              "      <td>6.152</td>\n",
              "      <td>14.7</td>\n",
              "      <td>15.02</td>\n",
              "    </tr>\n",
              "    <tr>\n",
              "      <th>280</th>\n",
              "      <td>7.820</td>\n",
              "      <td>14.9</td>\n",
              "      <td>3.76</td>\n",
              "    </tr>\n",
              "    <tr>\n",
              "      <th>126</th>\n",
              "      <td>5.613</td>\n",
              "      <td>19.1</td>\n",
              "      <td>27.26</td>\n",
              "    </tr>\n",
              "    <tr>\n",
              "      <th>329</th>\n",
              "      <td>6.333</td>\n",
              "      <td>16.9</td>\n",
              "      <td>7.34</td>\n",
              "    </tr>\n",
              "  </tbody>\n",
              "</table>\n",
              "</div>\n",
              "      <button class=\"colab-df-convert\" onclick=\"convertToInteractive('df-df54f0f5-4fc3-46b2-a843-bb73e01147b5')\"\n",
              "              title=\"Convert this dataframe to an interactive table.\"\n",
              "              style=\"display:none;\">\n",
              "        \n",
              "  <svg xmlns=\"http://www.w3.org/2000/svg\" height=\"24px\"viewBox=\"0 0 24 24\"\n",
              "       width=\"24px\">\n",
              "    <path d=\"M0 0h24v24H0V0z\" fill=\"none\"/>\n",
              "    <path d=\"M18.56 5.44l.94 2.06.94-2.06 2.06-.94-2.06-.94-.94-2.06-.94 2.06-2.06.94zm-11 1L8.5 8.5l.94-2.06 2.06-.94-2.06-.94L8.5 2.5l-.94 2.06-2.06.94zm10 10l.94 2.06.94-2.06 2.06-.94-2.06-.94-.94-2.06-.94 2.06-2.06.94z\"/><path d=\"M17.41 7.96l-1.37-1.37c-.4-.4-.92-.59-1.43-.59-.52 0-1.04.2-1.43.59L10.3 9.45l-7.72 7.72c-.78.78-.78 2.05 0 2.83L4 21.41c.39.39.9.59 1.41.59.51 0 1.02-.2 1.41-.59l7.78-7.78 2.81-2.81c.8-.78.8-2.07 0-2.86zM5.41 20L4 18.59l7.72-7.72 1.47 1.35L5.41 20z\"/>\n",
              "  </svg>\n",
              "      </button>\n",
              "      \n",
              "  <style>\n",
              "    .colab-df-container {\n",
              "      display:flex;\n",
              "      flex-wrap:wrap;\n",
              "      gap: 12px;\n",
              "    }\n",
              "\n",
              "    .colab-df-convert {\n",
              "      background-color: #E8F0FE;\n",
              "      border: none;\n",
              "      border-radius: 50%;\n",
              "      cursor: pointer;\n",
              "      display: none;\n",
              "      fill: #1967D2;\n",
              "      height: 32px;\n",
              "      padding: 0 0 0 0;\n",
              "      width: 32px;\n",
              "    }\n",
              "\n",
              "    .colab-df-convert:hover {\n",
              "      background-color: #E2EBFA;\n",
              "      box-shadow: 0px 1px 2px rgba(60, 64, 67, 0.3), 0px 1px 3px 1px rgba(60, 64, 67, 0.15);\n",
              "      fill: #174EA6;\n",
              "    }\n",
              "\n",
              "    [theme=dark] .colab-df-convert {\n",
              "      background-color: #3B4455;\n",
              "      fill: #D2E3FC;\n",
              "    }\n",
              "\n",
              "    [theme=dark] .colab-df-convert:hover {\n",
              "      background-color: #434B5C;\n",
              "      box-shadow: 0px 1px 3px 1px rgba(0, 0, 0, 0.15);\n",
              "      filter: drop-shadow(0px 1px 2px rgba(0, 0, 0, 0.3));\n",
              "      fill: #FFFFFF;\n",
              "    }\n",
              "  </style>\n",
              "\n",
              "      <script>\n",
              "        const buttonEl =\n",
              "          document.querySelector('#df-df54f0f5-4fc3-46b2-a843-bb73e01147b5 button.colab-df-convert');\n",
              "        buttonEl.style.display =\n",
              "          google.colab.kernel.accessAllowed ? 'block' : 'none';\n",
              "\n",
              "        async function convertToInteractive(key) {\n",
              "          const element = document.querySelector('#df-df54f0f5-4fc3-46b2-a843-bb73e01147b5');\n",
              "          const dataTable =\n",
              "            await google.colab.kernel.invokeFunction('convertToInteractive',\n",
              "                                                     [key], {});\n",
              "          if (!dataTable) return;\n",
              "\n",
              "          const docLinkHtml = 'Like what you see? Visit the ' +\n",
              "            '<a target=\"_blank\" href=https://colab.research.google.com/notebooks/data_table.ipynb>data table notebook</a>'\n",
              "            + ' to learn more about interactive tables.';\n",
              "          element.innerHTML = '';\n",
              "          dataTable['output_type'] = 'display_data';\n",
              "          await google.colab.output.renderOutput(dataTable, element);\n",
              "          const docLink = document.createElement('div');\n",
              "          docLink.innerHTML = docLinkHtml;\n",
              "          element.appendChild(docLink);\n",
              "        }\n",
              "      </script>\n",
              "    </div>\n",
              "  </div>\n",
              "  "
            ]
          },
          "metadata": {},
          "execution_count": 10
        }
      ]
    },
    {
      "cell_type": "markdown",
      "source": [
        "## 4. Instantiate your model and fit it on the training set."
      ],
      "metadata": {
        "id": "VJPWZGlz5FI0"
      }
    },
    {
      "cell_type": "markdown",
      "source": [
        "> All columns are type float and there are no missing values in the dataset. Therefore, we will only need to utilize the StandardScaler for our model. "
      ],
      "metadata": {
        "id": "jXxW7Ppk8edZ"
      }
    },
    {
      "cell_type": "code",
      "source": [
        "# instantiate scaler\n",
        "scaler = StandardScaler()"
      ],
      "metadata": {
        "id": "kc53dyJZ8W_d"
      },
      "execution_count": null,
      "outputs": []
    },
    {
      "cell_type": "code",
      "source": [
        "# instantiate the linear regression model\n",
        "linreg = LinearRegression()"
      ],
      "metadata": {
        "id": "28_HVaXG9GHA"
      },
      "execution_count": null,
      "outputs": []
    },
    {
      "cell_type": "code",
      "source": [
        "# Create model pipeline with scaler first then linear regression model\n",
        "regression_pipe = make_pipeline(scaler, linreg)"
      ],
      "metadata": {
        "id": "p95joKfM9KL8"
      },
      "execution_count": null,
      "outputs": []
    },
    {
      "cell_type": "code",
      "source": [
        "# fit pipeline to training data\n",
        "regression_pipe.fit(X_train, y_train)"
      ],
      "metadata": {
        "colab": {
          "base_uri": "https://localhost:8080/",
          "height": 126
        },
        "id": "DpIdQYc09WaS",
        "outputId": "359c9ceb-faf2-4f92-9c3b-4ae91475a2b8"
      },
      "execution_count": null,
      "outputs": [
        {
          "output_type": "execute_result",
          "data": {
            "text/plain": [
              "Pipeline(steps=[('standardscaler', StandardScaler()),\n",
              "                ('linearregression', LinearRegression())])"
            ],
            "text/html": [
              "<style>#sk-452fdd71-f58b-4171-b032-408f119d9a09 {color: black;background-color: white;}#sk-452fdd71-f58b-4171-b032-408f119d9a09 pre{padding: 0;}#sk-452fdd71-f58b-4171-b032-408f119d9a09 div.sk-toggleable {background-color: white;}#sk-452fdd71-f58b-4171-b032-408f119d9a09 label.sk-toggleable__label {cursor: pointer;display: block;width: 100%;margin-bottom: 0;padding: 0.3em;box-sizing: border-box;text-align: center;}#sk-452fdd71-f58b-4171-b032-408f119d9a09 label.sk-toggleable__label-arrow:before {content: \"▸\";float: left;margin-right: 0.25em;color: #696969;}#sk-452fdd71-f58b-4171-b032-408f119d9a09 label.sk-toggleable__label-arrow:hover:before {color: black;}#sk-452fdd71-f58b-4171-b032-408f119d9a09 div.sk-estimator:hover label.sk-toggleable__label-arrow:before {color: black;}#sk-452fdd71-f58b-4171-b032-408f119d9a09 div.sk-toggleable__content {max-height: 0;max-width: 0;overflow: hidden;text-align: left;background-color: #f0f8ff;}#sk-452fdd71-f58b-4171-b032-408f119d9a09 div.sk-toggleable__content pre {margin: 0.2em;color: black;border-radius: 0.25em;background-color: #f0f8ff;}#sk-452fdd71-f58b-4171-b032-408f119d9a09 input.sk-toggleable__control:checked~div.sk-toggleable__content {max-height: 200px;max-width: 100%;overflow: auto;}#sk-452fdd71-f58b-4171-b032-408f119d9a09 input.sk-toggleable__control:checked~label.sk-toggleable__label-arrow:before {content: \"▾\";}#sk-452fdd71-f58b-4171-b032-408f119d9a09 div.sk-estimator input.sk-toggleable__control:checked~label.sk-toggleable__label {background-color: #d4ebff;}#sk-452fdd71-f58b-4171-b032-408f119d9a09 div.sk-label input.sk-toggleable__control:checked~label.sk-toggleable__label {background-color: #d4ebff;}#sk-452fdd71-f58b-4171-b032-408f119d9a09 input.sk-hidden--visually {border: 0;clip: rect(1px 1px 1px 1px);clip: rect(1px, 1px, 1px, 1px);height: 1px;margin: -1px;overflow: hidden;padding: 0;position: absolute;width: 1px;}#sk-452fdd71-f58b-4171-b032-408f119d9a09 div.sk-estimator {font-family: monospace;background-color: #f0f8ff;border: 1px dotted black;border-radius: 0.25em;box-sizing: border-box;margin-bottom: 0.5em;}#sk-452fdd71-f58b-4171-b032-408f119d9a09 div.sk-estimator:hover {background-color: #d4ebff;}#sk-452fdd71-f58b-4171-b032-408f119d9a09 div.sk-parallel-item::after {content: \"\";width: 100%;border-bottom: 1px solid gray;flex-grow: 1;}#sk-452fdd71-f58b-4171-b032-408f119d9a09 div.sk-label:hover label.sk-toggleable__label {background-color: #d4ebff;}#sk-452fdd71-f58b-4171-b032-408f119d9a09 div.sk-serial::before {content: \"\";position: absolute;border-left: 1px solid gray;box-sizing: border-box;top: 2em;bottom: 0;left: 50%;}#sk-452fdd71-f58b-4171-b032-408f119d9a09 div.sk-serial {display: flex;flex-direction: column;align-items: center;background-color: white;padding-right: 0.2em;padding-left: 0.2em;}#sk-452fdd71-f58b-4171-b032-408f119d9a09 div.sk-item {z-index: 1;}#sk-452fdd71-f58b-4171-b032-408f119d9a09 div.sk-parallel {display: flex;align-items: stretch;justify-content: center;background-color: white;}#sk-452fdd71-f58b-4171-b032-408f119d9a09 div.sk-parallel::before {content: \"\";position: absolute;border-left: 1px solid gray;box-sizing: border-box;top: 2em;bottom: 0;left: 50%;}#sk-452fdd71-f58b-4171-b032-408f119d9a09 div.sk-parallel-item {display: flex;flex-direction: column;position: relative;background-color: white;}#sk-452fdd71-f58b-4171-b032-408f119d9a09 div.sk-parallel-item:first-child::after {align-self: flex-end;width: 50%;}#sk-452fdd71-f58b-4171-b032-408f119d9a09 div.sk-parallel-item:last-child::after {align-self: flex-start;width: 50%;}#sk-452fdd71-f58b-4171-b032-408f119d9a09 div.sk-parallel-item:only-child::after {width: 0;}#sk-452fdd71-f58b-4171-b032-408f119d9a09 div.sk-dashed-wrapped {border: 1px dashed gray;margin: 0 0.4em 0.5em 0.4em;box-sizing: border-box;padding-bottom: 0.4em;background-color: white;position: relative;}#sk-452fdd71-f58b-4171-b032-408f119d9a09 div.sk-label label {font-family: monospace;font-weight: bold;background-color: white;display: inline-block;line-height: 1.2em;}#sk-452fdd71-f58b-4171-b032-408f119d9a09 div.sk-label-container {position: relative;z-index: 2;text-align: center;}#sk-452fdd71-f58b-4171-b032-408f119d9a09 div.sk-container {/* jupyter's `normalize.less` sets `[hidden] { display: none; }` but bootstrap.min.css set `[hidden] { display: none !important; }` so we also need the `!important` here to be able to override the default hidden behavior on the sphinx rendered scikit-learn.org. See: https://github.com/scikit-learn/scikit-learn/issues/21755 */display: inline-block !important;position: relative;}#sk-452fdd71-f58b-4171-b032-408f119d9a09 div.sk-text-repr-fallback {display: none;}</style><div id=\"sk-452fdd71-f58b-4171-b032-408f119d9a09\" class=\"sk-top-container\"><div class=\"sk-text-repr-fallback\"><pre>Pipeline(steps=[(&#x27;standardscaler&#x27;, StandardScaler()),\n",
              "                (&#x27;linearregression&#x27;, LinearRegression())])</pre><b>Please rerun this cell to show the HTML repr or trust the notebook.</b></div><div class=\"sk-container\" hidden><div class=\"sk-item sk-dashed-wrapped\"><div class=\"sk-label-container\"><div class=\"sk-label sk-toggleable\"><input class=\"sk-toggleable__control sk-hidden--visually\" id=\"fdd00453-c6f2-43c8-8879-081318cc6c59\" type=\"checkbox\" ><label for=\"fdd00453-c6f2-43c8-8879-081318cc6c59\" class=\"sk-toggleable__label sk-toggleable__label-arrow\">Pipeline</label><div class=\"sk-toggleable__content\"><pre>Pipeline(steps=[(&#x27;standardscaler&#x27;, StandardScaler()),\n",
              "                (&#x27;linearregression&#x27;, LinearRegression())])</pre></div></div></div><div class=\"sk-serial\"><div class=\"sk-item\"><div class=\"sk-estimator sk-toggleable\"><input class=\"sk-toggleable__control sk-hidden--visually\" id=\"ad077d84-a99f-4c30-9f9d-162fa26309e3\" type=\"checkbox\" ><label for=\"ad077d84-a99f-4c30-9f9d-162fa26309e3\" class=\"sk-toggleable__label sk-toggleable__label-arrow\">StandardScaler</label><div class=\"sk-toggleable__content\"><pre>StandardScaler()</pre></div></div></div><div class=\"sk-item\"><div class=\"sk-estimator sk-toggleable\"><input class=\"sk-toggleable__control sk-hidden--visually\" id=\"3e58fd8b-fa7b-4488-a972-9b06d39af6f0\" type=\"checkbox\" ><label for=\"3e58fd8b-fa7b-4488-a972-9b06d39af6f0\" class=\"sk-toggleable__label sk-toggleable__label-arrow\">LinearRegression</label><div class=\"sk-toggleable__content\"><pre>LinearRegression()</pre></div></div></div></div></div></div></div>"
            ]
          },
          "metadata": {},
          "execution_count": 14
        }
      ]
    },
    {
      "cell_type": "code",
      "source": [
        "# make predictions using training and testing data\n",
        "train_pred = regression_pipe.predict(X_train)\n",
        "test_pred = regression_pipe.predict(X_test)"
      ],
      "metadata": {
        "id": "IxoCKAxb9bZ9"
      },
      "execution_count": null,
      "outputs": []
    },
    {
      "cell_type": "markdown",
      "source": [
        "## 5. Evaluate your model performance using R^2 on the training set and on the test set. Is there a difference between model performance on the training data vs the test data?"
      ],
      "metadata": {
        "id": "U7ktxG1i5HAL"
      }
    },
    {
      "cell_type": "code",
      "source": [
        "# calculate and display r2 score for training and test sets\n",
        "train_r2 = r2_score(y_train, train_pred)\n",
        "test_r2 = r2_score(y_test, test_pred)\n",
        "\n",
        "print(f'Model Train R2: {train_r2}')\n",
        "print(f'Model Test R2: {test_r2}')"
      ],
      "metadata": {
        "colab": {
          "base_uri": "https://localhost:8080/"
        },
        "id": "Yu1Xs1-A9mf-",
        "outputId": "d91bc2e0-f023-4912-dcd8-d7df793431d7"
      },
      "execution_count": null,
      "outputs": [
        {
          "output_type": "stream",
          "name": "stdout",
          "text": [
            "Model Train R2: 0.6877966145058925\n",
            "Model Test R2: 0.6331590458194676\n"
          ]
        }
      ]
    },
    {
      "cell_type": "markdown",
      "source": [
        "> The model performed better on the Training set as opposed to the Test set by a difference in R^2 of approximately 5.5%. R^2 score for the training set is 68.8% and for the testing set is 63.3%."
      ],
      "metadata": {
        "id": "vC9qV2w695wk"
      }
    },
    {
      "cell_type": "markdown",
      "source": [
        "## 6. Evaluate your model using mean absolute error (MAE)."
      ],
      "metadata": {
        "id": "vw-ZqWwt5I5M"
      }
    },
    {
      "cell_type": "code",
      "source": [
        "# calculate and display MAE for training and test sets\n",
        "train_MAE = mean_absolute_error(y_train, train_pred)\n",
        "test_MAE = mean_absolute_error(y_test, test_pred)\n",
        "\n",
        "print(f'Model Train MAE: {train_MAE}')\n",
        "print(f'Model Test MAE: {test_MAE}')"
      ],
      "metadata": {
        "colab": {
          "base_uri": "https://localhost:8080/"
        },
        "id": "EFNTohVc-VXD",
        "outputId": "9229bb48-d272-48e1-aace-516f2b8af162"
      },
      "execution_count": null,
      "outputs": [
        {
          "output_type": "stream",
          "name": "stdout",
          "text": [
            "Model Train MAE: 3.714054057158005\n",
            "Model Test MAE: 3.3918448293813976\n"
          ]
        }
      ]
    },
    {
      "cell_type": "markdown",
      "source": [
        "> According to the MAE metric, or model was off by \\$3.71 for the training set, and \\$3.39 for the testing set. The model was fairly close for both the training and test sets. "
      ],
      "metadata": {
        "id": "CzMosn68-0Pt"
      }
    },
    {
      "cell_type": "markdown",
      "source": [
        "## 7. Evaluate your model using mean squared error (MSE)."
      ],
      "metadata": {
        "id": "ZBoaY7-N5K2b"
      }
    },
    {
      "cell_type": "code",
      "source": [
        "# calculate and display MSE for training and test sets\n",
        "train_MSE = mean_squared_error(y_train, train_pred)\n",
        "test_MSE = mean_squared_error(y_test, test_pred)\n",
        "\n",
        "print(f'Model Train MSE: {train_MSE}')\n",
        "print(f'Model Test MSE: {test_MSE}')"
      ],
      "metadata": {
        "colab": {
          "base_uri": "https://localhost:8080/"
        },
        "id": "F_7vsjIq_HGp",
        "outputId": "69ed0ced-467a-4907-fbf3-2758a0629161"
      },
      "execution_count": null,
      "outputs": [
        {
          "output_type": "stream",
          "name": "stdout",
          "text": [
            "Model Train MSE: 27.68673681796949\n",
            "Model Test MSE: 25.688824196675963\n"
          ]
        }
      ]
    },
    {
      "cell_type": "markdown",
      "source": [
        "> According to MSE metric, or model was off by \\$27.69 for the training set, and \\$25.69 for the test set. Again, the model is fairly close for both sets, MSE is not in the same scale as the price column, so it is hard to tell by exactly how much it is off. "
      ],
      "metadata": {
        "id": "MMlwbDjp_ZyU"
      }
    },
    {
      "cell_type": "markdown",
      "source": [
        "## 8. Evaluate your model performance using RMSE on the training set and on the test set. This metric is useful because the units will be in the same units as your target vector. In this case 1,000 of dollars."
      ],
      "metadata": {
        "id": "ap84VIFR5Myr"
      }
    },
    {
      "cell_type": "code",
      "execution_count": null,
      "metadata": {
        "colab": {
          "base_uri": "https://localhost:8080/"
        },
        "id": "roDKeUn7hCVv",
        "outputId": "bd19d564-9cb3-4880-e0be-b8c851f422d0"
      },
      "outputs": [
        {
          "output_type": "stream",
          "name": "stdout",
          "text": [
            "Model Train RMSE: 5.261818774717492\n",
            "Model Test RMSE: 5.0684143671049595\n"
          ]
        }
      ],
      "source": [
        "# calculate and display RMSE for training and test sets\n",
        "train_RMSE = np.sqrt(mean_squared_error(y_train, train_pred))\n",
        "test_RMSE = np.sqrt(mean_squared_error(y_test, test_pred))\n",
        "\n",
        "print(f'Model Train RMSE: {train_RMSE}')\n",
        "print(f'Model Test RMSE: {test_RMSE}')"
      ]
    },
    {
      "cell_type": "markdown",
      "source": [
        "> According to RMSE metric, our model was off by \\$5.26 for the training set, and \\$5.07 for the test set. This is a larger deviation (in the same scale as our price column) than we saw with the MAE metric. Again, it shows a smaller deviation with the Test set than with the Training set. "
      ],
      "metadata": {
        "id": "tFgvoQOTAK2j"
      }
    }
  ]
}